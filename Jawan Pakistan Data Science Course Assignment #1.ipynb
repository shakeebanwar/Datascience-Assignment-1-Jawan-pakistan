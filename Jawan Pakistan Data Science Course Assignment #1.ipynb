{
 "cells": [
  {
   "cell_type": "markdown",
   "metadata": {},
   "source": [
    "\n",
    "# Jawan Pakistan Data Science Course Assignment #1"
   ]
  },
  {
   "cell_type": "code",
   "execution_count": 3,
   "metadata": {},
   "outputs": [
    {
     "name": "stdout",
     "output_type": "stream",
     "text": [
      "\tTwinkle, twinkle, little star, \n",
      "\t\tHow I wonder what you are! \n",
      "\t\t\tUp above the world so high, \n",
      "\t\t\tLike a diamond in the sky. \n",
      "\tTwinkle, twinkle, little star, \n",
      "\t\tHow I wonder what you are!\n"
     ]
    }
   ],
   "source": [
    "#1. Write a Python program to print the following string in a specific format (see the\n",
    "# output).\n",
    "\n",
    "#         Twinkle, twinkle, little star,\n",
    "#                 How I wonder what you are!\n",
    "#                         Up above the world so high,\n",
    "#                         Like a diamond in the sky.\n",
    "\n",
    "#         Twinkle, twinkle, little star,\n",
    "#                 How I wonder what you are\n",
    "\n",
    "print(\"\\tTwinkle, twinkle, little star, \\n\\t\\tHow I wonder what you are! \\n\\t\\t\\tUp above the world so high, \\n\\t\\t\\tLike a diamond in the sky. \\n\\tTwinkle, twinkle, little star, \\n\\t\\tHow I wonder what you are!\")\n"
   ]
  },
  {
   "cell_type": "code",
   "execution_count": 4,
   "metadata": {},
   "outputs": [
    {
     "name": "stdout",
     "output_type": "stream",
     "text": [
      " Python version:  3.7.3 (default, Mar 27 2019, 17:13:21) [MSC v.1915 64 bit (AMD64)]\n"
     ]
    }
   ],
   "source": [
    "# 2. Write a Python program to get the Python version you are using\n",
    "\n",
    "import sys\n",
    "print(\" Python version: \",sys.version)"
   ]
  },
  {
   "cell_type": "code",
   "execution_count": 5,
   "metadata": {},
   "outputs": [
    {
     "name": "stdout",
     "output_type": "stream",
     "text": [
      "Current date and time :  2021-12-31 17:25:32\n"
     ]
    }
   ],
   "source": [
    "# 3. Write a Python program to display the current date and time.\n",
    "\n",
    "import datetime\n",
    "current = datetime.datetime.now()\n",
    "print (\"Current date and time : \",current.strftime(\"%Y-%m-%d %H:%M:%S\"))"
   ]
  },
  {
   "cell_type": "code",
   "execution_count": 6,
   "metadata": {},
   "outputs": [
    {
     "name": "stdout",
     "output_type": "stream",
     "text": [
      " Radius of circle: 4\n",
      " Area of circle is:  50.272\n"
     ]
    }
   ],
   "source": [
    "# 4. Write a Python program which accepts the radius of a circle from the user and compute\n",
    "# the area.\n",
    "\n",
    "r=float(input(\" Radius of circle: \"))\n",
    "area = 3.142 * r**2\n",
    "print(\" Area of circle is: \",area)"
   ]
  },
  {
   "cell_type": "code",
   "execution_count": 7,
   "metadata": {},
   "outputs": [
    {
     "name": "stdout",
     "output_type": "stream",
     "text": [
      " Input First Name : Muhammad Khizar\n",
      " Input Last Name : Baig\n",
      " Baig Muhammad Khizar\n"
     ]
    }
   ],
   "source": [
    "# 5. Write a Python program which accepts the user's first and last name and print them in\n",
    "# reverse order with a space between them.\n",
    "\n",
    "first_name = input(\" Input First Name : \")\n",
    "last_name = input(\" Input Last Name : \")\n",
    "print(\" \"+last_name+\" \"+first_name)"
   ]
  },
  {
   "cell_type": "code",
   "execution_count": 9,
   "metadata": {},
   "outputs": [
    {
     "name": "stdout",
     "output_type": "stream",
     "text": [
      " Enter 1st input: 4\n",
      " Enter 2nd input: 5\n",
      " Addition of two inputs:  9\n"
     ]
    }
   ],
   "source": [
    "# 6. Write a python program which takes two inputs from user and print them addition\n",
    "\n",
    "a=int(input(\" Enter 1st input: \"))\n",
    "b=int(input(\" Enter 2nd input: \"))\n",
    "print(\" Addition of two inputs: \",a+b)"
   ]
  },
  {
   "cell_type": "code",
   "execution_count": null,
   "metadata": {},
   "outputs": [],
   "source": []
  },
  {
   "cell_type": "code",
   "execution_count": null,
   "metadata": {},
   "outputs": [],
   "source": []
  },
  {
   "cell_type": "code",
   "execution_count": null,
   "metadata": {},
   "outputs": [],
   "source": []
  }
 ],
 "metadata": {
  "kernelspec": {
   "display_name": "Python 3",
   "language": "python",
   "name": "python3"
  },
  "language_info": {
   "codemirror_mode": {
    "name": "ipython",
    "version": 3
   },
   "file_extension": ".py",
   "mimetype": "text/x-python",
   "name": "python",
   "nbconvert_exporter": "python",
   "pygments_lexer": "ipython3",
   "version": "3.7.3"
  }
 },
 "nbformat": 4,
 "nbformat_minor": 2
}
